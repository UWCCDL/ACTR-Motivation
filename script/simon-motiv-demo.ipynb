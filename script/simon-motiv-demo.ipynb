{
 "cells": [
  {
   "cell_type": "markdown",
   "metadata": {},
   "source": [
    "# ACT-R Simon Task\n",
    "\n",
    "This script is to play with the ACT-R Simon Model created by A.S.(2017)\n",
    "\n",
    "<img src=\"https://ars.els-cdn.com/content/image/1-s2.0-S0010027717300598-gr6.jpg\" width=\"400\"/>\n",
    "\n",
    "# Updated ACT-R Simon Model with Motivation Component\n",
    "\n",
    "This updated model (model3) implements a simple motivation component in Goal buffer \n",
    "\n",
    "\n",
    "<img src=\"https://docs.google.com/drawings/d/e/2PACX-1vS_YKK6E75H-XYmQMRBH1xLt7vjmDSMrB0Ykgw0AnppxTx2KwN5OiReoi77Hr5xkdfKc8kVmMDgrYuQ/pub?w=1359&h=1561\" width=\"400\"/>\n"
   ]
  },
  {
   "cell_type": "code",
   "execution_count": 1,
   "metadata": {},
   "outputs": [
    {
     "name": "stdout",
     "output_type": "stream",
     "text": [
      "ACT-R connection has been started.\n"
     ]
    }
   ],
   "source": [
    "from simon_device import *\n",
    "import actr\n",
    "import os\n",
    "import pandas as pd\n",
    "import matplotlib.pyplot as plt\n",
    "import seaborn as sns"
   ]
  },
  {
   "cell_type": "code",
   "execution_count": 2,
   "metadata": {},
   "outputs": [
    {
     "name": "stdout",
     "output_type": "stream",
     "text": [
      "######### LOADED MODEL simon-model3 #########\n",
      ">> {'seed': [100, 0], 'ans': 0.5, 'le': 0.1, 'mas': 4.0, 'egs': 0.1, 'alpha': 0.2, 'imaginal-activation': 3.0, 'motor-feature-prep-time': 0.01} <<\n",
      "--------------------------------------------------------------------------------\n",
      "CONGRUENT-VALID (N=20): Accuracy = 0.90, Response Times = 880.30 ms\n",
      "CONGRUENT-INVALID (N=20): Accuracy = 0.65, Response Times = 891.35 ms\n",
      "INCONGRUENT-VALID (N=20): Accuracy = 0.50, Response Times = 882.35 ms\n",
      "INCONGRUENT-INVALID (N=20): Accuracy = 0.35, Response Times = 897.10 ms\n"
     ]
    }
   ],
   "source": [
    "task_motiv0 = run_experiment(model=\"simon-model3\", visible=False, trace=False)"
   ]
  },
  {
   "cell_type": "code",
   "execution_count": 3,
   "metadata": {},
   "outputs": [
    {
     "name": "stdout",
     "output_type": "stream",
     "text": [
      "######### LOADED MODEL simon-model3 #########\n",
      ">> {'seed': [100, 0], 'ans': 0.5, 'le': 0.1, 'mas': 4.0, 'egs': 0.1, 'alpha': 0.2, 'imaginal-activation': 3.0, 'motor-feature-prep-time': 0.01} <<\n",
      "--------------------------------------------------------------------------------\n",
      "CONGRUENT-VALID (N=20): Accuracy = 1.00, Response Times = 871.95 ms\n",
      "CONGRUENT-INVALID (N=20): Accuracy = 0.95, Response Times = 953.85 ms\n",
      "INCONGRUENT-VALID (N=20): Accuracy = 0.95, Response Times = 959.90 ms\n",
      "INCONGRUENT-INVALID (N=20): Accuracy = 0.60, Response Times = 1069.95 ms\n"
     ]
    }
   ],
   "source": [
    "task_motiv2 = run_experiment(model=\"simon-model3\", visible=False, trace=False)"
   ]
  },
  {
   "cell_type": "code",
   "execution_count": 4,
   "metadata": {},
   "outputs": [
    {
     "name": "stdout",
     "output_type": "stream",
     "text": [
      "######### LOADED MODEL simon-model3 #########\n",
      ">> {'seed': [100, 0], 'ans': 0.5, 'le': 0.1, 'mas': 4.0, 'egs': 0.1, 'alpha': 0.2, 'imaginal-activation': 3.0, 'motor-feature-prep-time': 0.01} <<\n",
      "--------------------------------------------------------------------------------\n",
      "CONGRUENT-VALID (N=20): Accuracy = 1.00, Response Times = 904.50 ms\n",
      "CONGRUENT-INVALID (N=20): Accuracy = 1.00, Response Times = 920.55 ms\n",
      "INCONGRUENT-VALID (N=20): Accuracy = 1.00, Response Times = 1024.50 ms\n",
      "INCONGRUENT-INVALID (N=20): Accuracy = 0.95, Response Times = 1218.60 ms\n"
     ]
    }
   ],
   "source": [
    "task_motiv5 = run_experiment(model=\"simon-model3\", visible=False, trace=False)"
   ]
  },
  {
   "cell_type": "code",
   "execution_count": 5,
   "metadata": {},
   "outputs": [
    {
     "name": "stdout",
     "output_type": "stream",
     "text": [
      "######### LOADED MODEL simon-model3 #########\n",
      ">> {'seed': [100, 0], 'ans': 0.5, 'le': 0.1, 'mas': 4.0, 'egs': 0.1, 'alpha': 0.2, 'imaginal-activation': 3.0, 'motor-feature-prep-time': 0.01} <<\n",
      "--------------------------------------------------------------------------------\n",
      "CONGRUENT-VALID (N=20): Accuracy = 1.00, Response Times = 953.95 ms\n",
      "CONGRUENT-INVALID (N=20): Accuracy = 1.00, Response Times = 989.25 ms\n",
      "INCONGRUENT-VALID (N=20): Accuracy = 1.00, Response Times = 1017.75 ms\n",
      "INCONGRUENT-INVALID (N=20): Accuracy = 1.00, Response Times = 1377.60 ms\n"
     ]
    }
   ],
   "source": [
    "task_motiv10 = run_experiment(model=\"simon-model3\", visible=False, trace=False)"
   ]
  },
  {
   "cell_type": "markdown",
   "metadata": {},
   "source": [
    "### Model outputs"
   ]
  },
  {
   "cell_type": "code",
   "execution_count": 7,
   "metadata": {},
   "outputs": [
    {
     "data": {
      "text/html": [
       "<div>\n",
       "<style scoped>\n",
       "    .dataframe tbody tr th:only-of-type {\n",
       "        vertical-align: middle;\n",
       "    }\n",
       "\n",
       "    .dataframe tbody tr th {\n",
       "        vertical-align: top;\n",
       "    }\n",
       "\n",
       "    .dataframe thead th {\n",
       "        text-align: right;\n",
       "    }\n",
       "</style>\n",
       "<table border=\"1\" class=\"dataframe\">\n",
       "  <thead>\n",
       "    <tr style=\"text-align: right;\">\n",
       "      <th></th>\n",
       "      <th>condition_stimulus</th>\n",
       "      <th>condition_cue</th>\n",
       "      <th>accuracy</th>\n",
       "      <th>response_time</th>\n",
       "    </tr>\n",
       "  </thead>\n",
       "  <tbody>\n",
       "    <tr>\n",
       "      <th>0</th>\n",
       "      <td>incongruent</td>\n",
       "      <td>invalid</td>\n",
       "      <td>0</td>\n",
       "      <td>0.873</td>\n",
       "    </tr>\n",
       "    <tr>\n",
       "      <th>1</th>\n",
       "      <td>incongruent</td>\n",
       "      <td>valid</td>\n",
       "      <td>0</td>\n",
       "      <td>0.849</td>\n",
       "    </tr>\n",
       "    <tr>\n",
       "      <th>2</th>\n",
       "      <td>incongruent</td>\n",
       "      <td>invalid</td>\n",
       "      <td>0</td>\n",
       "      <td>0.85</td>\n",
       "    </tr>\n",
       "    <tr>\n",
       "      <th>3</th>\n",
       "      <td>incongruent</td>\n",
       "      <td>valid</td>\n",
       "      <td>1</td>\n",
       "      <td>0.848</td>\n",
       "    </tr>\n",
       "    <tr>\n",
       "      <th>4</th>\n",
       "      <td>congruent</td>\n",
       "      <td>valid</td>\n",
       "      <td>1</td>\n",
       "      <td>0.858</td>\n",
       "    </tr>\n",
       "    <tr>\n",
       "      <th>...</th>\n",
       "      <td>...</td>\n",
       "      <td>...</td>\n",
       "      <td>...</td>\n",
       "      <td>...</td>\n",
       "    </tr>\n",
       "    <tr>\n",
       "      <th>75</th>\n",
       "      <td>congruent</td>\n",
       "      <td>invalid</td>\n",
       "      <td>1</td>\n",
       "      <td>0.865</td>\n",
       "    </tr>\n",
       "    <tr>\n",
       "      <th>76</th>\n",
       "      <td>incongruent</td>\n",
       "      <td>valid</td>\n",
       "      <td>1</td>\n",
       "      <td>0.88</td>\n",
       "    </tr>\n",
       "    <tr>\n",
       "      <th>77</th>\n",
       "      <td>incongruent</td>\n",
       "      <td>invalid</td>\n",
       "      <td>0</td>\n",
       "      <td>0.889</td>\n",
       "    </tr>\n",
       "    <tr>\n",
       "      <th>78</th>\n",
       "      <td>congruent</td>\n",
       "      <td>invalid</td>\n",
       "      <td>1</td>\n",
       "      <td>0.883</td>\n",
       "    </tr>\n",
       "    <tr>\n",
       "      <th>79</th>\n",
       "      <td>congruent</td>\n",
       "      <td>valid</td>\n",
       "      <td>0</td>\n",
       "      <td>0.895</td>\n",
       "    </tr>\n",
       "  </tbody>\n",
       "</table>\n",
       "<p>80 rows × 4 columns</p>\n",
       "</div>"
      ],
      "text/plain": [
       "   condition_stimulus condition_cue accuracy response_time\n",
       "0         incongruent       invalid        0         0.873\n",
       "1         incongruent         valid        0         0.849\n",
       "2         incongruent       invalid        0          0.85\n",
       "3         incongruent         valid        1         0.848\n",
       "4           congruent         valid        1         0.858\n",
       "..                ...           ...      ...           ...\n",
       "75          congruent       invalid        1         0.865\n",
       "76        incongruent         valid        1          0.88\n",
       "77        incongruent       invalid        0         0.889\n",
       "78          congruent       invalid        1         0.883\n",
       "79          congruent         valid        0         0.895\n",
       "\n",
       "[80 rows x 4 columns]"
      ]
     },
     "execution_count": 7,
     "metadata": {},
     "output_type": "execute_result"
    }
   ],
   "source": [
    "task_motiv0.df_stats_model_outputs()"
   ]
  },
  {
   "cell_type": "code",
   "execution_count": 19,
   "metadata": {},
   "outputs": [
    {
     "data": {
      "image/png": "[encoded data removed]",
      "text/plain": [
       "<Figure size 1440x360 with 4 Axes>"
      ]
     },
     "metadata": {
      "needs_background": "light"
     },
     "output_type": "display_data"
    }
   ],
   "source": [
    "fig, axes = plt.subplots(1, 4, figsize=(20, 5), sharey=True)\n",
    "sns.barplot(x=\"condition_stimulus\", y=\"response_time\", hue=\"condition_cue\", data=task_motiv0.df_stats_model_outputs(), ax=axes[0]).set(title='Motivation=0')\n",
    "sns.barplot(x=\"condition_stimulus\", y=\"response_time\", hue=\"condition_cue\", data=task_motiv2.df_stats_model_outputs(), ax=axes[1]).set(title='Motivation=2')\n",
    "sns.barplot(x=\"condition_stimulus\", y=\"response_time\", hue=\"condition_cue\", data=task_motiv5.df_stats_model_outputs(), ax=axes[2]).set(title='Motivation=5')\n",
    "sns.barplot(x=\"condition_stimulus\", y=\"response_time\", hue=\"condition_cue\", data=task_motiv10.df_stats_model_outputs(), ax=axes[3]).set(title='Motivation=10')\n",
    "plt.show()"
   ]
  },
  {
   "cell_type": "code",
   "execution_count": 20,
   "metadata": {},
   "outputs": [
    {
     "data": {
      "image/png": "[encoded data removed]",
      "text/plain": [
       "<Figure size 1440x360 with 4 Axes>"
      ]
     },
     "metadata": {
      "needs_background": "light"
     },
     "output_type": "display_data"
    }
   ],
   "source": [
    "fig, axes = plt.subplots(1, 4, figsize=(20, 5), sharey=True)\n",
    "sns.barplot(x=\"condition_stimulus\", y=\"accuracy\", hue=\"condition_cue\", data=task_motiv0.df_stats_model_outputs(), ax=axes[0]).set(title='Motivation=0')\n",
    "sns.barplot(x=\"condition_stimulus\", y=\"accuracy\", hue=\"condition_cue\", data=task_motiv2.df_stats_model_outputs(), ax=axes[1]).set(title='Motivation=2')\n",
    "sns.barplot(x=\"condition_stimulus\", y=\"accuracy\", hue=\"condition_cue\", data=task_motiv5.df_stats_model_outputs(), ax=axes[2]).set(title='Motivation=5')\n",
    "sns.barplot(x=\"condition_stimulus\", y=\"accuracy\", hue=\"condition_cue\", data=task_motiv10.df_stats_model_outputs(), ax=axes[3]).set(title='Motivation=10')\n",
    "plt.show()"
   ]
  },
  {
   "cell_type": "markdown",
   "metadata": {},
   "source": [
    "### Post Error Slowing"
   ]
  },
  {
   "cell_type": "code",
   "execution_count": 21,
   "metadata": {},
   "outputs": [
    {
     "data": {
      "image/png": "[encoded data removed]",
      "text/plain": [
       "<Figure size 1440x360 with 4 Axes>"
      ]
     },
     "metadata": {
      "needs_background": "light"
     },
     "output_type": "display_data"
    }
   ],
   "source": [
    "fig, axes = plt.subplots(1, 4, figsize=(20, 5), sharey=True)\n",
    "sns.barplot(x=\"trial_type\", y=\"response_time\", data=task_motiv0.df_stats_post_error(), ax=axes[0]).set(title='Motivation=0')\n",
    "sns.barplot(x=\"trial_type\", y=\"response_time\", data=task_motiv2.df_stats_post_error(), ax=axes[1]).set(title='Motivation=2')\n",
    "sns.barplot(x=\"trial_type\", y=\"response_time\", data=task_motiv5.df_stats_post_error(), ax=axes[2]).set(title='Motivation=5')\n",
    "sns.barplot(x=\"trial_type\", y=\"response_time\", data=task_motiv10.df_stats_post_error(), ax=axes[3]).set(title='Motivation=10')\n",
    "plt.show()"
   ]
  },
  {
   "cell_type": "code",
   "execution_count": null,
   "metadata": {},
   "outputs": [],
   "source": []
  },
  {
   "cell_type": "code",
   "execution_count": null,
   "metadata": {},
   "outputs": [],
   "source": []
  },
  {
   "cell_type": "code",
   "execution_count": null,
   "metadata": {},
   "outputs": [],
   "source": []
  },
  {
   "cell_type": "code",
   "execution_count": null,
   "metadata": {},
   "outputs": [],
   "source": []
  }
 ],
 "metadata": {
  "kernelspec": {
   "display_name": "Python 3",
   "language": "python",
   "name": "python3"
  },
  "language_info": {
   "codemirror_mode": {
    "name": "ipython",
    "version": 3
   },
   "file_extension": ".py",
   "mimetype": "text/x-python",
   "name": "python",
   "nbconvert_exporter": "python",
   "pygments_lexer": "ipython3",
   "version": "3.8.5"
  }
 },
 "nbformat": 4,
 "nbformat_minor": 5
}
