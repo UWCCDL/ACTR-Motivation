{
 "cells": [
  {
   "cell_type": "markdown",
   "id": "ab22aeac-921f-41cc-9cc5-3147a5fa5464",
   "metadata": {},
   "source": [
    "# ACT-R Simon Task\n",
    "\n",
    "This script is to play with the ACT-R Simon Model created by A.S.(2017)\n",
    "\n",
    "The Simon Task demo is here: https://www.psytoolkit.org/experiment-library/experiment_simon.html \n",
    "\n",
    "<img src=\"https://ars.els-cdn.com/content/image/1-s2.0-S0010027717300598-gr6.jpg\" width=\"400\"/>\n",
    "\n",
    "# Updated ACT-R Simon Model with Motivation Component\n",
    "\n",
    "This updated model (simon-motivation-model) implements a simple motivation component in GOAL buffer \n",
    "\n",
    "\n",
    "<img src=\"https://docs.google.com/drawings/d/e/2PACX-1vS_YKK6E75H-XYmQMRBH1xLt7vjmDSMrB0Ykgw0AnppxTx2KwN5OiReoi77Hr5xkdfKc8kVmMDgrYuQ/pub?w=1359&h=1561\" width=\"400\"/>\n",
    "\n",
    "## Motivation Parameter in count unit\n",
    "\n",
    "In this model (**simon-motivation-model1**), motivation parameter refers to \"the maximum times(counts) of retrieval\" before giving a response. (Motivation parameter has to be an positive integer, default value is 1). For instance, \n",
    "\n",
    "- motivation parameter = 1, it means that the model would never check the rule. \n",
    "- motivation parameter = 2, it means the model only have *ONE* chance of checking the rule. As a problem is detected, the model would redo once. But no matter what rule being retrieved, it will respond with the available answer. \n",
    "- motivation paramter = 10, it means that the model would go back *AT MOST 9* times before giving a response. However, if the retrieved rule passes the check (check-pass) fires, there is no need to redo the retrieve, the model would proceed with the correct answer. \n",
    "\n",
    "\n",
    "## Motivation Parameter in time unit\n",
    "\n",
    "\n",
    "In this model(**simon-motivation-model2**), motivation parameter is like a mental clock, refering to \"the maximum time (in sec) it would spend before providing response. Now, motivation parameter is in second unit, so it should be a float number. For instance,\n",
    "\n",
    "- motivation paramter = 1.5, it means that when model's mental clock exceeds motivation clock (> 1.5s), it would stop checking the rule anymore, but if the mental clock is within the motivation clock(< 1.5s), it would continue retrieving and checking the rule. \n",
    "\n",
    "## Motivation Parameter + Reward delivery\n",
    "\n",
    "\n",
    "In this model(**simon-motivation-model3**), similar to model3, motivation parameter is like a mental clock, refering to \"the maximum time (in sec) it would spend before providing response. However, the reward delivery mechanisms is different. In this model, how much reward is provided depends on how long the model attempts to retrieve. If motivation parameter is high enought, when production `check-pass` fires, it delivers a reward which is equal to the duration of time the model takes since fixation cross appearing on the screen. If motivation parameter is low, the model will not check the answer (dont-check production fires), no reward will be given. \n",
    "\n",
    "- motivation paramter = 1.5, it means that when model's mental clock exceeds motivation clock (> 1.5s), it would stop checking the rule anymore, but if the mental clock is within the motivation clock(< 1.5s), it would continue retrieving and checking the rule.\n",
    "\n",
    "- If check-pass fires, it will deliver a reward (equal to the total duration time the model spends on retrieval).\n"
   ]
  },
  {
   "cell_type": "code",
   "execution_count": 2,
   "id": "a96b97ea-5669-4736-96d8-731be335dcae",
   "metadata": {},
   "outputs": [],
   "source": [
    "from simon_device import *\n",
    "import actr\n",
    "import os\n",
    "import pandas as pd\n",
    "import matplotlib.pyplot as plt\n",
    "import seaborn as sns\n",
    "import ipywidgets as widgets\n",
    "from ipywidgets import interact, interact_manual"
   ]
  },
  {
   "cell_type": "markdown",
   "id": "25a582d6-7132-4a6c-8996-b17c82ae59fa",
   "metadata": {},
   "source": [
    "## Model data (interactive)\n",
    "\n",
    "This interactive figure is generated through adjusting motivation parameter"
   ]
  },
  {
   "cell_type": "code",
   "execution_count": 7,
   "id": "0c8a69b4-fb1d-4c09-9676-bd4a2430d84a",
   "metadata": {},
   "outputs": [
    {
     "data": {
      "application/vnd.jupyter.widget-view+json": {
       "model_id": "119af7c881b24bdc9e5371c062f4719c",
       "version_major": 2,
       "version_minor": 0
      },
      "text/plain": [
       "interactive(children=(FloatSlider(value=1.1, description='motivation', max=3.0, min=0.1, step=0.5), Dropdown(d…"
      ]
     },
     "metadata": {},
     "output_type": "display_data"
    }
   ],
   "source": [
    "@interact\n",
    "def model_output(motivation=(0.1, 3, 0.5), model_name=['model3','model2','model1']):\n",
    "    task = run_experiment(model=f'simon-motivation-{model_name}', visible=False, trace=False, param_set={'motivation':motivation})\n",
    "    df = task.process_trace_data()\n",
    "    fig, axes = plt.subplots(1, 2, figsize=(15, 4))\n",
    "    sns.pointplot(x=\"condition_stimulus\", y=\"response_time\", hue=\"condition_cue\", dodge=True, height=4, aspect=0.7, palette=\"Set2\", markers=[\"x\", \"o\"],\n",
    "                  data=df, ax=axes[0]).set(title=f'Motivation={motivation}')\n",
    "    sns.pointplot(x=\"condition_stimulus\", y=\"accuracy\", hue=\"condition_cue\", dodge=True, height=4, aspect=.7, palette=\"Set2\", markers=[\"x\", \"o\"],\n",
    "                  data=df, ax=axes[1]).set(title=f'Motivation={motivation}')"
   ]
  },
  {
   "cell_type": "code",
   "execution_count": 4,
   "id": "39923fbe-c5d1-491d-bf52-9f444896006a",
   "metadata": {},
   "outputs": [
    {
     "data": {
      "application/vnd.jupyter.widget-view+json": {
       "model_id": "a104dc40bafa4d9aa4465ba1cbffb61c",
       "version_major": 2,
       "version_minor": 0
      },
      "text/plain": [
       "interactive(children=(FloatSlider(value=1.0, description='motivation', max=3.0), Dropdown(description='model_n…"
      ]
     },
     "metadata": {},
     "output_type": "display_data"
    }
   ],
   "source": [
    "@interact\n",
    "def utility_output(motivation=(0.1, 3, 0.5), model_name=['model3','model2','model1']):\n",
    "    task = run_experiment(model=f'simon-motivation-{model_name}', visible=False, trace=False, param_set={'motivation':motivation})\n",
    "    df = task.process_trace_data()\n",
    "    #fig, axes = plt.subplots(2, 1, figsize=(15, 10))\n",
    "    g = sns.FacetGrid(df, row=\"condition_stimulus\", col=\"condition_cue\", hue=\"production\", height=4, aspect=1, margin_titles=True)\n",
    "    g.map(sns.lineplot, \"time\", \":u\")\n",
    "    g.add_legend()"
   ]
  },
  {
   "cell_type": "code",
   "execution_count": null,
   "id": "5f7b28aa-3647-4c19-ba47-23caa2a29329",
   "metadata": {},
   "outputs": [],
   "source": []
  },
  {
   "cell_type": "code",
   "execution_count": null,
   "id": "10c905c7-425d-4217-bb21-c11feb68b78e",
   "metadata": {},
   "outputs": [],
   "source": []
  }
 ],
 "metadata": {
  "kernelspec": {
   "display_name": "Python 3",
   "language": "python",
   "name": "python3"
  },
  "language_info": {
   "codemirror_mode": {
    "name": "ipython",
    "version": 3
   },
   "file_extension": ".py",
   "mimetype": "text/x-python",
   "name": "python",
   "nbconvert_exporter": "python",
   "pygments_lexer": "ipython3",
   "version": "3.8.8"
  }
 },
 "nbformat": 4,
 "nbformat_minor": 5
}
